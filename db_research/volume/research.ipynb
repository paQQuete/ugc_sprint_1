{
 "cells": [
  {
   "cell_type": "code",
   "execution_count": 1,
   "id": "795c1117",
   "metadata": {
    "pycharm": {
     "name": "#%%\n"
    }
   },
   "outputs": [
    {
     "data": {
      "text/plain": [
       "[]"
      ]
     },
     "execution_count": 1,
     "metadata": {},
     "output_type": "execute_result"
    }
   ],
   "source": [
    "from clickhouse_driver import Client\n",
    "from mimesis import Person\n",
    "from uuid import uuid4\n",
    "import vertica_python\n",
    "\n",
    "\n",
    "vertica_info = {\n",
    "    'host': 'vertica',\n",
    "    'port': 5433,\n",
    "    'user': 'dbadmin',\n",
    "    'password': 'dbpass',\n",
    "    'database': 'docker',\n",
    "    'autocommit': True,\n",
    "} \n",
    "\n",
    "clickhouse_client = Client(host='clickhouse')\n",
    "vertica_connection = vertica_python.connect(**vertica_info)\n",
    "vertica_cursor = vertica_connection.cursor()\n",
    "person = Person()\n",
    "\n",
    "vertica_cursor.execute(\"\"\"\n",
    "CREATE TABLE if not exists test (\n",
    "id UUID,\n",
    "first_name VARCHAR,\n",
    "age INT,\n",
    "email VARCHAR,\n",
    "political VARCHAR,\n",
    "phone VARCHAR,\n",
    "username VARCHAR\n",
    ");\n",
    "\n",
    "\"\"\")\n",
    "\n",
    "clickhouse_client.execute(\"\"\"\n",
    "CREATE TABLE if not exists test (\n",
    "id UUID,\n",
    "first_name VARCHAR,\n",
    "age INT,\n",
    "email VARCHAR,\n",
    "political VARCHAR,\n",
    "phone VARCHAR,\n",
    "username VARCHAR\n",
    ") Engine=MergeTree() ORDER BY tuple();\n",
    "\"\"\")"
   ]
  },
  {
   "cell_type": "code",
   "execution_count": 2,
   "id": "d6525a3c",
   "metadata": {
    "pycharm": {
     "name": "#%%\n"
    }
   },
   "outputs": [],
   "source": [
    "import time\n",
    "import statistics\n",
    "\n",
    "class profile_code():\n",
    "    def __init__(self):\n",
    "        self.start = time.time()\n",
    "        self.all_durations = []\n",
    "        \n",
    "    def setup_start_time(self):\n",
    "        self.start = time.time()\n",
    "\n",
    "    def checkpoint(self):\n",
    "        end_time = time.time()\n",
    "        self.all_durations.append(end_time - self.start)\n",
    "        self.start = end_time\n",
    "\n",
    "    def __enter__(self):\n",
    "        return self\n",
    "\n",
    "    def __exit__(self, type, value, traceback):\n",
    "        print(f\"Median - {statistics.median(self.all_durations)}\")\n",
    "        avg = sum(self.all_durations) / len(self.all_durations)\n",
    "        print(f\"Average - {avg}\")\n",
    "        print(f\"Summary - {sum(self.all_durations)}\")"
   ]
  },
  {
   "cell_type": "markdown",
   "id": "120afc7c",
   "metadata": {
    "pycharm": {
     "name": "#%% md\n"
    }
   },
   "source": [
    "## Генерация тестовых данных"
   ]
  },
  {
   "cell_type": "code",
   "execution_count": 3,
   "id": "34df3b03",
   "metadata": {
    "pycharm": {
     "name": "#%%\n"
    }
   },
   "outputs": [],
   "source": [
    "test_data = [{'uuid': str(uuid4()),\n",
    "            'first_name': person.name(), \n",
    "            'age': person.age(),\n",
    "             'email': person.email(),\n",
    "             'political': person.political_views(),\n",
    "             'phone': person.telephone(),\n",
    "             'username': person.username()\n",
    "             } for x in range(10000)]"
   ]
  },
  {
   "cell_type": "markdown",
   "id": "4b7547af",
   "metadata": {
    "pycharm": {
     "name": "#%% md\n"
    }
   },
   "source": [
    "## Профилирование операций записи"
   ]
  },
  {
   "cell_type": "markdown",
   "id": "d1495729",
   "metadata": {
    "pycharm": {
     "name": "#%% md\n"
    }
   },
   "source": [
    "**Vertica**"
   ]
  },
  {
   "cell_type": "code",
   "execution_count": 4,
   "id": "13471d32",
   "metadata": {
    "scrolled": true,
    "pycharm": {
     "name": "#%%\n"
    }
   },
   "outputs": [
    {
     "name": "stdout",
     "output_type": "stream",
     "text": [
      "Median - 28.983445644378662\n",
      "Average - 29.051094484329223\n",
      "Summary - 145.25547242164612\n",
      "CPU times: user 3.26 s, sys: 986 ms, total: 4.24 s\n",
      "Wall time: 2min 25s\n"
     ]
    }
   ],
   "source": [
    "%%time\n",
    "with profile_code() as profiler:\n",
    "    for i in range(5):\n",
    "        profiler.setup_start_time()\n",
    "        for row in test_data:\n",
    "            vertica_cursor.execute(f\"\"\"INSERT INTO test (id, first_name, age, email, political, phone, username) \n",
    "            VALUES ('{row['uuid']}', '{row['first_name']}', {row['age']}, '{row['email']}', \n",
    "            '{row['political']}', '{row['phone']}', '{row['username']}');\"\"\")\n",
    "        profiler.checkpoint()\n",
    "        vertica_cursor.execute(\"\"\"TRUNCATE TABLE test;\"\"\")"
   ]
  },
  {
   "cell_type": "markdown",
   "id": "fbecfcb6",
   "metadata": {
    "pycharm": {
     "name": "#%% md\n"
    }
   },
   "source": [
    "**Clickhouse**"
   ]
  },
  {
   "cell_type": "code",
   "execution_count": 5,
   "id": "aa9b5fed",
   "metadata": {
    "pycharm": {
     "name": "#%%\n"
    }
   },
   "outputs": [
    {
     "name": "stdout",
     "output_type": "stream",
     "text": [
      "Median - 8.567510604858398\n",
      "Average - 8.514442682266235\n",
      "Summary - 42.57221341133118\n",
      "CPU times: user 5.41 s, sys: 2.84 s, total: 8.25 s\n",
      "Wall time: 42.6 s\n"
     ]
    }
   ],
   "source": [
    "%%time\n",
    "with profile_code() as profiler:\n",
    "    for i in range(5):\n",
    "        profiler.setup_start_time()\n",
    "        for row in test_data:\n",
    "            clickhouse_client.execute(f\"\"\"INSERT INTO test (id, first_name, age, email, political, phone, username) \n",
    "            VALUES ('{row['uuid']}', '{row['first_name']}', {row['age']}, '{row['email']}', \n",
    "            '{row['political']}', '{row['phone']}', '{row['username']}');\"\"\")\n",
    "        profiler.checkpoint()\n",
    "        clickhouse_client.execute(\"\"\"TRUNCATE TABLE test;\"\"\")"
   ]
  },
  {
   "cell_type": "markdown",
   "id": "3d96c345",
   "metadata": {
    "pycharm": {
     "name": "#%% md\n"
    }
   },
   "source": [
    "## Профилирование операций чтения"
   ]
  },
  {
   "cell_type": "markdown",
   "id": "06b042fe",
   "metadata": {
    "pycharm": {
     "name": "#%% md\n"
    }
   },
   "source": [
    "**Vertica**"
   ]
  },
  {
   "cell_type": "code",
   "execution_count": 6,
   "id": "28169e06",
   "metadata": {
    "pycharm": {
     "name": "#%%\n"
    }
   },
   "outputs": [
    {
     "name": "stdout",
     "output_type": "stream",
     "text": [
      "Median - 0.003000974655151367\n",
      "Average - 0.00697319507598877\n",
      "Summary - 0.0697319507598877\n",
      "CPU times: user 4.12 ms, sys: 1.37 ms, total: 5.49 ms\n",
      "Wall time: 69.9 ms\n"
     ]
    }
   ],
   "source": [
    "%%time\n",
    "with profile_code() as profiler:\n",
    "    for i in range(10):\n",
    "        profiler.setup_start_time()\n",
    "        vertica_cursor.execute(\"\"\"\n",
    "        select * from test where age >= 10 AND political = 'Liberal' order by age;\n",
    "        \"\"\")\n",
    "        profiler.checkpoint()"
   ]
  },
  {
   "cell_type": "markdown",
   "id": "feadd070",
   "metadata": {
    "pycharm": {
     "name": "#%% md\n"
    }
   },
   "source": [
    "**Clickhouse**"
   ]
  },
  {
   "cell_type": "code",
   "execution_count": 7,
   "id": "6231f5ab",
   "metadata": {
    "pycharm": {
     "name": "#%%\n"
    }
   },
   "outputs": [
    {
     "name": "stdout",
     "output_type": "stream",
     "text": [
      "Median - 0.002900362014770508\n",
      "Average - 0.004439353942871094\n",
      "Summary - 0.04439353942871094\n",
      "CPU times: user 10.5 ms, sys: 2.1 ms, total: 12.6 ms\n",
      "Wall time: 44.6 ms\n"
     ]
    }
   ],
   "source": [
    "%%time\n",
    "with profile_code() as profiler:\n",
    "    for i in range(10):\n",
    "        profiler.setup_start_time()\n",
    "        clickhouse_client.execute(\"\"\"\n",
    "            select * from test where age >= 10 AND political = 'Liberal' order by age;\n",
    "        \"\"\")\n",
    "        profiler.checkpoint()"
   ]
  },
  {
   "cell_type": "code",
   "execution_count": 8,
   "id": "a1adae39",
   "metadata": {
    "pycharm": {
     "name": "#%%\n"
    }
   },
   "outputs": [],
   "source": [
    "vertica_cursor.close()"
   ]
  },
  {
   "cell_type": "markdown",
   "id": "205f62e4",
   "metadata": {
    "pycharm": {
     "name": "#%% md\n"
    }
   },
   "source": [
    "**Исходя из полученных данных, видим что Clickhouse опережает Vertica по скорости чтения и записи, поэтому выбор Clickhouse в качестве аналитической БД более чем оправдан.**"
   ]
  }
 ],
 "metadata": {
  "kernelspec": {
   "display_name": "Python 3 (ipykernel)",
   "language": "python",
   "name": "python3"
  },
  "language_info": {
   "codemirror_mode": {
    "name": "ipython",
    "version": 3
   },
   "file_extension": ".py",
   "mimetype": "text/x-python",
   "name": "python",
   "nbconvert_exporter": "python",
   "pygments_lexer": "ipython3",
   "version": "3.11.1"
  }
 },
 "nbformat": 4,
 "nbformat_minor": 5
}