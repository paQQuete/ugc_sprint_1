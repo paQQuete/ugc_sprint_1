{
 "cells": [
  {
   "cell_type": "code",
   "execution_count": 6,
   "id": "257723be",
   "metadata": {},
   "outputs": [],
   "source": [
    "from pymongo import MongoClient\n",
    "from mimesis import Person\n",
    "from uuid import uuid4\n",
    "from collections import Counter\n",
    "import random\n",
    "from clickhouse_driver import Client\n",
    "\n",
    "clickhouse_client = Client(host='ctube-study.ru')\n",
    "client = MongoClient('ctube-study.ru', 27019)\n",
    "db = client['docker']\n"
   ]
  },
  {
   "cell_type": "code",
   "execution_count": 7,
   "id": "55db4979",
   "metadata": {},
   "outputs": [],
   "source": [
    "import time\n",
    "import statistics\n",
    "\n",
    "class profile_code():\n",
    "    def __init__(self):\n",
    "        self.start = time.time()\n",
    "        self.all_durations = []\n",
    "        \n",
    "    def setup_start_time(self):\n",
    "        self.start = time.time()\n",
    "\n",
    "    def checkpoint(self):\n",
    "        end_time = time.time()\n",
    "        self.all_durations.append(end_time - self.start)\n",
    "        self.start = end_time\n",
    "\n",
    "    def __enter__(self):\n",
    "        return self\n",
    "\n",
    "    def __exit__(self, type, value, traceback):\n",
    "        print(f\"Median - {statistics.median(self.all_durations)}\")\n",
    "        avg = sum(self.all_durations) / len(self.all_durations)\n",
    "        print(f\"Average - {avg}\")\n",
    "        print(f\"Summary - {sum(self.all_durations)}\")\n",
    "        \n",
    "person = Person()\n",
    "movies_rand = [str(uuid4()) for x in range(1,200)]\n",
    "user_rand = [random.randint(1,500) for x in range(1,500)]\n",
    "movies_rand = [f'{str(uuid4())}'] + movies_rand\n",
    "\n",
    "def gen_person_data():\n",
    "    return [{'uuid': str(uuid4()),\n",
    "                'first_name': person.name(), \n",
    "                'age': person.age(),\n",
    "                 'email': person.email(),\n",
    "                 'political': person.political_views(),\n",
    "                 'phone': person.telephone(),\n",
    "                 'username': person.username()\n",
    "                 } for x in range(10000)]\n",
    "\n",
    "\n",
    "def gen_movie_likes():\n",
    "    return [{'rating': random.randint(0,1),\n",
    "             'user_id': random.choice(user_rand),\n",
    "             'movie_uuid': random.choice(movies_rand),\n",
    "             'created_at': random.randint(633801229, 1675180434),\n",
    "             'updated_at': random.randint(633801229, 1675180434)} for x in range(10000)]\n",
    "\n",
    "\n",
    "def gen_bookmarks():\n",
    "    return [{'user_id': random.choice(user_rand),\n",
    "             'movie_uuid': random.choice(movies_rand),\n",
    "             'created_at': random.randint(633801229, 1675180434),\n",
    "             'updated_at': random.randint(633801229, 1675180434)} for x in range(10000)]"
   ]
  },
  {
   "cell_type": "code",
   "execution_count": 36,
   "id": "3d722399",
   "metadata": {
    "scrolled": false
   },
   "outputs": [
    {
     "data": {
      "text/plain": [
       "[]"
      ]
     },
     "execution_count": 36,
     "metadata": {},
     "output_type": "execute_result"
    }
   ],
   "source": [
    "clickhouse_client.execute(\"\"\"\n",
    "CREATE TABLE if not exists default.tests (\n",
    "id UUID,\n",
    "first_name VARCHAR,\n",
    "age INT,\n",
    "email VARCHAR,\n",
    "political VARCHAR,\n",
    "phone VARCHAR,\n",
    "username VARCHAR\n",
    ") Engine=MergeTree() ORDER BY id;\n",
    "\"\"\")\n",
    "\n",
    "clickhouse_client.execute(\"\"\"\n",
    "CREATE TABLE if not exists movie_likes (\n",
    "uuid UUID,\n",
    "rating TINYINT,\n",
    "user_id BIGINT,\n",
    "movie_uud UUID,\n",
    "created_at DateTime,\n",
    "updated_at DateTime\n",
    ") Engine=MergeTree() ORDER BY uuid;\n",
    "\"\"\")\n",
    "\n",
    "clickhouse_client.execute(\"\"\"\n",
    "CREATE TABLE if not exists bookmarks (\n",
    "uuid UUID,\n",
    "user_id BIGINT,\n",
    "movie_uuid UUID,\n",
    "created_at DateTime,\n",
    "updated_at DateTime\n",
    ") Engine=MergeTree() ORDER BY uuid;\n",
    "\"\"\")"
   ]
  },
  {
   "cell_type": "code",
   "execution_count": 24,
   "id": "73f960a0",
   "metadata": {},
   "outputs": [
    {
     "data": {
      "text/plain": [
       "<pymongo.results.DeleteResult at 0x7f760b156770>"
      ]
     },
     "execution_count": 24,
     "metadata": {},
     "output_type": "execute_result"
    }
   ],
   "source": [
    "newcol = db['test']\n",
    "test_data = gen_person_data()\n",
    "newcol.delete_many({})"
   ]
  },
  {
   "cell_type": "markdown",
   "id": "1f7e3212",
   "metadata": {},
   "source": [
    "**Пакетная вставка данных в MongoDB**"
   ]
  },
  {
   "cell_type": "code",
   "execution_count": 25,
   "id": "2659ef18",
   "metadata": {},
   "outputs": [
    {
     "name": "stdout",
     "output_type": "stream",
     "text": [
      "Median - 0.34908080101013184\n",
      "Average - 0.34908080101013184\n",
      "Summary - 0.6981616020202637\n",
      "CPU times: user 209 ms, sys: 12.3 ms, total: 222 ms\n",
      "Wall time: 1.75 s\n"
     ]
    }
   ],
   "source": [
    "%%time\n",
    "with profile_code() as profiler:\n",
    "    for i in range(2):\n",
    "        profiler.setup_start_time()\n",
    "        newcol.insert_many(test_data)\n",
    "        profiler.checkpoint()\n",
    "        newcol.delete_many({})"
   ]
  },
  {
   "cell_type": "markdown",
   "id": "2448ceeb",
   "metadata": {},
   "source": [
    "**Одиночная вставка данных в MongoDB**"
   ]
  },
  {
   "cell_type": "code",
   "execution_count": 27,
   "id": "60b0e6e8",
   "metadata": {},
   "outputs": [
    {
     "name": "stdout",
     "output_type": "stream",
     "text": [
      "Median - 83.11603128910065\n",
      "Average - 83.11603128910065\n",
      "Summary - 166.2320625782013\n",
      "CPU times: user 6.96 s, sys: 943 ms, total: 7.9 s\n",
      "Wall time: 2min 47s\n"
     ]
    }
   ],
   "source": [
    "%%time\n",
    "with profile_code() as profiler:\n",
    "    for i in range(2):\n",
    "        profiler.setup_start_time()\n",
    "        for each in test_data:\n",
    "            newcol.insert_one(each)\n",
    "        profiler.checkpoint()\n",
    "        \n",
    "        newcol.delete_many({})"
   ]
  },
  {
   "cell_type": "code",
   "execution_count": 28,
   "id": "d79f6d41",
   "metadata": {},
   "outputs": [
    {
     "data": {
      "text/plain": [
       "<pymongo.results.DeleteResult at 0x7f760b337c10>"
      ]
     },
     "execution_count": 28,
     "metadata": {},
     "output_type": "execute_result"
    }
   ],
   "source": [
    "newcol = db['movie_likes']\n",
    "movie_likes_dataset = gen_movie_likes()\n",
    "newcol.delete_many({})"
   ]
  },
  {
   "cell_type": "markdown",
   "id": "6da73220",
   "metadata": {},
   "source": [
    "**Пакетная вставка данных в MongoDB**"
   ]
  },
  {
   "cell_type": "code",
   "execution_count": 29,
   "id": "d24f10ad",
   "metadata": {},
   "outputs": [
    {
     "name": "stdout",
     "output_type": "stream",
     "text": [
      "Median - 0.31899750232696533\n",
      "Average - 0.31899750232696533\n",
      "Summary - 0.6379950046539307\n",
      "CPU times: user 250 ms, sys: 3.1 ms, total: 253 ms\n",
      "Wall time: 1.65 s\n"
     ]
    }
   ],
   "source": [
    "%%time\n",
    "with profile_code() as profiler:\n",
    "    for i in range(2):\n",
    "        profiler.setup_start_time()\n",
    "        newcol.insert_many(movie_likes_dataset)\n",
    "        profiler.checkpoint()\n",
    "        newcol.delete_many({})"
   ]
  },
  {
   "cell_type": "markdown",
   "id": "d74858ca",
   "metadata": {},
   "source": [
    "**Одиночная вставка данных в MongoDB**"
   ]
  },
  {
   "cell_type": "code",
   "execution_count": 30,
   "id": "a22aed04",
   "metadata": {},
   "outputs": [
    {
     "name": "stdout",
     "output_type": "stream",
     "text": [
      "Median - 83.62954795360565\n",
      "Average - 83.62954795360565\n",
      "Summary - 167.2590959072113\n",
      "CPU times: user 7.18 s, sys: 946 ms, total: 8.13 s\n",
      "Wall time: 2min 48s\n"
     ]
    }
   ],
   "source": [
    "%%time\n",
    "with profile_code() as profiler:\n",
    "    for i in range(2):\n",
    "        profiler.setup_start_time()\n",
    "        for each in movie_likes_dataset:\n",
    "            newcol.insert_one(each)\n",
    "        profiler.checkpoint()\n",
    "        \n",
    "        newcol.delete_many({})"
   ]
  },
  {
   "cell_type": "code",
   "execution_count": 31,
   "id": "04083e05",
   "metadata": {},
   "outputs": [
    {
     "data": {
      "text/plain": [
       "<pymongo.results.DeleteResult at 0x7f7608112800>"
      ]
     },
     "execution_count": 31,
     "metadata": {},
     "output_type": "execute_result"
    }
   ],
   "source": [
    "newcol = db['bookmarks']\n",
    "bookmarks_dataset = gen_bookmarks()\n",
    "newcol.delete_many({})"
   ]
  },
  {
   "cell_type": "markdown",
   "id": "75a8dd9c",
   "metadata": {},
   "source": [
    "**Пакетная вставка данных в MongoDB**"
   ]
  },
  {
   "cell_type": "code",
   "execution_count": 32,
   "id": "b1092f85",
   "metadata": {},
   "outputs": [
    {
     "name": "stdout",
     "output_type": "stream",
     "text": [
      "Median - 0.26420676708221436\n",
      "Average - 0.26420676708221436\n",
      "Summary - 0.5284135341644287\n",
      "CPU times: user 159 ms, sys: 7.54 ms, total: 167 ms\n",
      "Wall time: 1.51 s\n"
     ]
    }
   ],
   "source": [
    "%%time\n",
    "with profile_code() as profiler:\n",
    "    for i in range(2):\n",
    "        profiler.setup_start_time()\n",
    "        newcol.insert_many(bookmarks_dataset)\n",
    "        profiler.checkpoint()\n",
    "        newcol.delete_many({})"
   ]
  },
  {
   "cell_type": "markdown",
   "id": "f6ecb28c",
   "metadata": {},
   "source": [
    "**Одиночная вставка данных в MongoDB**"
   ]
  },
  {
   "cell_type": "code",
   "execution_count": 33,
   "id": "27e5dcbe",
   "metadata": {},
   "outputs": [
    {
     "name": "stdout",
     "output_type": "stream",
     "text": [
      "Median - 90.14863133430481\n",
      "Average - 90.14863133430481\n",
      "Summary - 180.29726266860962\n",
      "CPU times: user 7.25 s, sys: 1 s, total: 8.25 s\n",
      "Wall time: 3min 1s\n"
     ]
    }
   ],
   "source": [
    "%%time\n",
    "with profile_code() as profiler:\n",
    "    for i in range(2):\n",
    "        profiler.setup_start_time()\n",
    "        for each in bookmarks_dataset:\n",
    "            newcol.insert_one(each)\n",
    "        profiler.checkpoint()\n",
    "        \n",
    "        newcol.delete_many({})"
   ]
  },
  {
   "cell_type": "markdown",
   "id": "c507be53",
   "metadata": {},
   "source": [
    "**Одиночная вставка данных в Clickhouse**"
   ]
  },
  {
   "cell_type": "code",
   "execution_count": 41,
   "id": "d8ea0782",
   "metadata": {},
   "outputs": [
    {
     "name": "stdout",
     "output_type": "stream",
     "text": [
      "Median - 34.4092720746994\n",
      "Average - 34.4092720746994\n",
      "Summary - 68.8185441493988\n",
      "CPU times: user 4.3 s, sys: 2.28 s, total: 6.58 s\n",
      "Wall time: 1min 8s\n"
     ]
    }
   ],
   "source": [
    "%%time\n",
    "with profile_code() as profiler:\n",
    "    for i in range(2):\n",
    "        profiler.setup_start_time()\n",
    "        for row in test_data:\n",
    "            clickhouse_client.execute(f\"\"\"INSERT INTO default.tests (id, first_name, age, email, political, phone, username) \n",
    "            VALUES ('{row['uuid']}', '{row['first_name']}', {row['age']}, '{row['email']}', \n",
    "            '{row['political']}', '{row['phone']}', '{row['username']}');\"\"\")\n",
    "        profiler.checkpoint()\n",
    "        clickhouse_client.execute(\"\"\"TRUNCATE TABLE default.tests;\"\"\")"
   ]
  },
  {
   "cell_type": "code",
   "execution_count": 42,
   "id": "fe6dc985",
   "metadata": {},
   "outputs": [],
   "source": [
    "movie_likes_dataset = gen_movie_likes()"
   ]
  },
  {
   "cell_type": "markdown",
   "id": "aab4d362",
   "metadata": {},
   "source": [
    "**Одиночная вставка данных в Clickhouse**"
   ]
  },
  {
   "cell_type": "code",
   "execution_count": 44,
   "id": "69bad9d1",
   "metadata": {},
   "outputs": [
    {
     "name": "stdout",
     "output_type": "stream",
     "text": [
      "Median - 50.92217040061951\n",
      "Average - 50.92217040061951\n",
      "Summary - 101.84434080123901\n",
      "CPU times: user 4.87 s, sys: 2.62 s, total: 7.5 s\n",
      "Wall time: 1min 42s\n"
     ]
    }
   ],
   "source": [
    "%%time\n",
    "with profile_code() as profiler:\n",
    "    for i in range(2):\n",
    "        profiler.setup_start_time()\n",
    "        for row in movie_likes_dataset:\n",
    "            clickhouse_client.execute(f\"\"\"INSERT INTO movie_likes \n",
    "            VALUES ('{str(uuid4())}', '{row['rating']}', '{row['user_id']}', '{row['movie_uuid']}', \n",
    "            '{row['created_at']}', '{row['updated_at']}');\"\"\")\n",
    "        profiler.checkpoint()\n",
    "        clickhouse_client.execute(\"\"\"TRUNCATE TABLE movie_likes;\"\"\")"
   ]
  },
  {
   "cell_type": "markdown",
   "id": "f7260b55",
   "metadata": {},
   "source": [
    "**Одиночная вставка данных в Clickhouse**"
   ]
  },
  {
   "cell_type": "code",
   "execution_count": 45,
   "id": "1a59c666",
   "metadata": {},
   "outputs": [
    {
     "name": "stdout",
     "output_type": "stream",
     "text": [
      "Median - 41.97558069229126\n",
      "Average - 41.97558069229126\n",
      "Summary - 83.95116138458252\n",
      "CPU times: user 4.66 s, sys: 2.56 s, total: 7.22 s\n",
      "Wall time: 1min 23s\n"
     ]
    }
   ],
   "source": [
    "%%time\n",
    "with profile_code() as profiler:\n",
    "    for i in range(2):\n",
    "        profiler.setup_start_time()\n",
    "        for row in movie_likes_dataset:\n",
    "            clickhouse_client.execute(f\"\"\"INSERT INTO bookmarks \n",
    "            VALUES ('{str(uuid4())}', '{row['user_id']}', '{row['movie_uuid']}', '{row['created_at']}', \n",
    "            '{row['updated_at']}');\"\"\")\n",
    "        profiler.checkpoint()\n",
    "        clickhouse_client.execute(\"\"\"TRUNCATE TABLE bookmarks;\"\"\")"
   ]
  },
  {
   "cell_type": "code",
   "execution_count": 46,
   "id": "dbfed273",
   "metadata": {},
   "outputs": [
    {
     "data": {
      "text/plain": [
       "<pymongo.results.InsertManyResult at 0x7f760979d300>"
      ]
     },
     "execution_count": 46,
     "metadata": {},
     "output_type": "execute_result"
    }
   ],
   "source": [
    "movies_col = db['movie_likes']\n",
    "movies_col.insert_many(gen_movie_likes())\n",
    "bookmarks_col = db['bookmarks']\n",
    "bookmarks_col.insert_many(gen_bookmarks())"
   ]
  },
  {
   "cell_type": "markdown",
   "id": "33379765",
   "metadata": {},
   "source": [
    "**Выборка списка фильмов, понравившихся пользователю, MongoDB**"
   ]
  },
  {
   "cell_type": "code",
   "execution_count": 47,
   "id": "5f0803e1",
   "metadata": {},
   "outputs": [
    {
     "name": "stdout",
     "output_type": "stream",
     "text": [
      "Median - 0.008145451545715332\n",
      "Average - 0.009596562385559082\n",
      "Summary - 0.09596562385559082\n",
      "CPU times: user 8.95 ms, sys: 1.5 ms, total: 10.5 ms\n",
      "Wall time: 96.1 ms\n"
     ]
    }
   ],
   "source": [
    "%%time\n",
    "with profile_code() as profiler:\n",
    "    for i in range(10):\n",
    "        profiler.setup_start_time()\n",
    "        user = movies_col.find_one().get('user_id')\n",
    "        mydoc = movies_col.find({\"user_id\":user})\n",
    "        result = list(map(lambda x: x, mydoc))\n",
    "        profiler.checkpoint()"
   ]
  },
  {
   "cell_type": "markdown",
   "id": "43bcf759",
   "metadata": {},
   "source": [
    "**Вывод количества лайков и дизлайков пользователя, MongoDB**"
   ]
  },
  {
   "cell_type": "code",
   "execution_count": 48,
   "id": "a87cb093",
   "metadata": {},
   "outputs": [
    {
     "name": "stdout",
     "output_type": "stream",
     "text": [
      "Median - 0.008039474487304688\n",
      "Average - 0.008637690544128418\n",
      "Summary - 0.08637690544128418\n",
      "CPU times: user 8.76 ms, sys: 1.45 ms, total: 10.2 ms\n",
      "Wall time: 86.5 ms\n"
     ]
    }
   ],
   "source": [
    "%%time\n",
    "with profile_code() as profiler:\n",
    "    for i in range(10):\n",
    "        profiler.setup_start_time()\n",
    "        movie = movies_col.find_one().get('movie_uuid')\n",
    "        mydoc = movies_col.find({'movie_uuid': movie})\n",
    "        result = list(map(lambda x: x, mydoc))\n",
    "        counter = Counter(x['rating'] for x in result)\n",
    "        likes = counter.get(1)\n",
    "        dislikes = counter.get(0)\n",
    "        profiler.checkpoint()"
   ]
  },
  {
   "cell_type": "markdown",
   "id": "a89866af",
   "metadata": {},
   "source": [
    "**Выбор списка закладок пользователя, MongoDB**"
   ]
  },
  {
   "cell_type": "code",
   "execution_count": 49,
   "id": "f442cf67",
   "metadata": {},
   "outputs": [
    {
     "name": "stdout",
     "output_type": "stream",
     "text": [
      "Median - 0.017369389533996582\n",
      "Average - 0.01831841468811035\n",
      "Summary - 0.18318414688110352\n",
      "CPU times: user 9.15 ms, sys: 3.21 ms, total: 12.4 ms\n",
      "Wall time: 183 ms\n"
     ]
    }
   ],
   "source": [
    "%%time\n",
    "with profile_code() as profiler:\n",
    "    for i in range(10):\n",
    "        profiler.setup_start_time()\n",
    "        user = bookmarks_col.find_one().get('user_id')\n",
    "        mydoc = bookmarks_col.find({'user_id':user})\n",
    "        result = list(map(lambda x: x, mydoc))\n",
    "        profiler.checkpoint()"
   ]
  },
  {
   "cell_type": "markdown",
   "id": "89f1cc1b",
   "metadata": {},
   "source": [
    "**Подсчет среднего рейтинга фильма, MongoDB**"
   ]
  },
  {
   "cell_type": "code",
   "execution_count": 50,
   "id": "d885a4bf",
   "metadata": {},
   "outputs": [
    {
     "name": "stdout",
     "output_type": "stream",
     "text": [
      "Median - 0.008525967597961426\n",
      "Average - 0.009981942176818848\n",
      "Summary - 0.09981942176818848\n",
      "CPU times: user 9.8 ms, sys: 1.77 ms, total: 11.6 ms\n",
      "Wall time: 100 ms\n"
     ]
    }
   ],
   "source": [
    "%%time\n",
    "with profile_code() as profiler:\n",
    "    for i in range(10):\n",
    "        profiler.setup_start_time()\n",
    "        movie = movies_col.find_one().get('movie_uuid')\n",
    "        mydoc = movies_col.find({'movie_uuid': movie})\n",
    "        result = list(map(lambda x: x, mydoc))\n",
    "        counter = Counter(x['rating'] for x in result)\n",
    "        likes = counter.get(1)\n",
    "        dislikes = counter.get(0)\n",
    "        average_rating = (1 * likes) / (likes + dislikes)\n",
    "        profiler.checkpoint()"
   ]
  },
  {
   "cell_type": "code",
   "execution_count": 4,
   "id": "86a0461f",
   "metadata": {},
   "outputs": [],
   "source": [
    "import requests\n",
    "\n",
    "base_url = 'http://ctube-study.ru:8000'"
   ]
  },
  {
   "cell_type": "markdown",
   "id": "2f59e69b",
   "metadata": {},
   "source": [
    "**Тестирование скорости работы данных поступающих в реальном времени (запрос на API - FastAPI backend - Kafka topic - ETL - MongoDB - чтение из MongoDB)**"
   ]
  },
  {
   "cell_type": "code",
   "execution_count": 26,
   "id": "7e83bbbd",
   "metadata": {},
   "outputs": [
    {
     "name": "stdout",
     "output_type": "stream",
     "text": [
      "Median - 0.019607186317443848\n",
      "Average - 0.019745945930480957\n",
      "Summary - 0.19745945930480957\n",
      "CPU times: user 56.1 ms, sys: 105 µs, total: 56.2 ms\n",
      "Wall time: 266 ms\n"
     ]
    }
   ],
   "source": [
    "%%time\n",
    "with profile_code() as profiler:\n",
    "    for i in range(10):\n",
    "        movie_id = str(uuid4())\n",
    "        user_id = random.randint(1,500)\n",
    "        db = client['dataBase']\n",
    "        topic = db['ugcViews']\n",
    "        mydoc = list()\n",
    "        \n",
    "        profiler.setup_start_time()\n",
    "        new_view = requests.post(f'{base_url}/api/v1/views/set', json = {\n",
    "              \"value\": {\n",
    "                \"movie_timestamp\": random.randint(1, 86400),\n",
    "                \"event_timestamp\": random.randint(633801229, 1675180434),\n",
    "                \"movie_id\": movie_id,\n",
    "                \"user_id\": user_id\n",
    "              },\n",
    "              \"topic\": \"ugcViews\"\n",
    "        })\n",
    "        while len(list(map(lambda x: x, mydoc))) == 0:\n",
    "            mydoc = topic.find({\n",
    "                'movie_id': movie_id,\n",
    "                'user_id': user_id\n",
    "            })\n",
    "        profiler.checkpoint()\n",
    "        topic.delete_many({})"
   ]
  }
 ],
 "metadata": {
  "kernelspec": {
   "display_name": "Python 3 (ipykernel)",
   "language": "python",
   "name": "python3"
  },
  "language_info": {
   "codemirror_mode": {
    "name": "ipython",
    "version": 3
   },
   "file_extension": ".py",
   "mimetype": "text/x-python",
   "name": "python",
   "nbconvert_exporter": "python",
   "pygments_lexer": "ipython3",
   "version": "3.11.2"
  }
 },
 "nbformat": 4,
 "nbformat_minor": 5
}
